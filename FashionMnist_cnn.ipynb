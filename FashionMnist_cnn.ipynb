{
  "nbformat": 4,
  "nbformat_minor": 0,
  "metadata": {
    "colab": {
      "name": "FashionMnist_cnn.ipynb",
      "version": "0.3.2",
      "provenance": [],
      "collapsed_sections": [],
      "include_colab_link": true
    },
    "kernelspec": {
      "name": "python3",
      "display_name": "Python 3"
    },
    "accelerator": "GPU"
  },
  "cells": [
    {
      "cell_type": "markdown",
      "metadata": {
        "id": "view-in-github",
        "colab_type": "text"
      },
      "source": [
        "<a href=\"https://colab.research.google.com/github/nthanhtin/Fashion_MNIST_cnn/blob/master/FashionMnist_cnn.ipynb\" target=\"_parent\"><img src=\"https://colab.research.google.com/assets/colab-badge.svg\" alt=\"Open In Colab\"/></a>"
      ]
    },
    {
      "metadata": {
        "id": "o1b9UEWaFs64",
        "colab_type": "code",
        "colab": {
          "base_uri": "https://localhost:8080/",
          "height": 153
        },
        "outputId": "8216d732-4e00-4f53-8143-ae2c71ec66e2"
      },
      "cell_type": "code",
      "source": [
        "import tensorflow as tf\n",
        "from tensorflow import keras\n",
        "from tensorflow.keras.datasets import fashion_mnist\n",
        "#preprocessed data from keras datasets\n",
        "(train_images, train_targets), (test_images, test_targets) = fashion_mnist.load_data()\n",
        "#enumerate classes inside the dataset\n",
        "class_names = ['T-shirt/top', 'Trouser', 'Pullover', 'Dress', 'Coat', 'Sandal', 'Shirt', 'Sneaker', 'Bag', 'Ankle boot']\n"
      ],
      "execution_count": 1,
      "outputs": [
        {
          "output_type": "stream",
          "text": [
            "Downloading data from https://storage.googleapis.com/tensorflow/tf-keras-datasets/train-labels-idx1-ubyte.gz\n",
            "32768/29515 [=================================] - 0s 0us/step\n",
            "Downloading data from https://storage.googleapis.com/tensorflow/tf-keras-datasets/train-images-idx3-ubyte.gz\n",
            "26427392/26421880 [==============================] - 0s 0us/step\n",
            "Downloading data from https://storage.googleapis.com/tensorflow/tf-keras-datasets/t10k-labels-idx1-ubyte.gz\n",
            "8192/5148 [===============================================] - 0s 0us/step\n",
            "Downloading data from https://storage.googleapis.com/tensorflow/tf-keras-datasets/t10k-images-idx3-ubyte.gz\n",
            "4423680/4422102 [==============================] - 0s 0us/step\n"
          ],
          "name": "stdout"
        }
      ]
    },
    {
      "metadata": {
        "id": "E7ny6sp3F34f",
        "colab_type": "code",
        "colab": {}
      },
      "cell_type": "code",
      "source": [
        "from sklearn.model_selection import train_test_split\n",
        "#data split into train and validation sets\n",
        "train_images, val_images, train_targets, val_targets = train_test_split(train_images, train_targets, test_size=0.2)\n",
        "\n",
        "train_images = train_images.reshape(48000,28,28,1)\n",
        "val_images = val_images.reshape(12000,28,28,1)\n",
        "test_images = test_images.reshape(10000,28,28,1)\n",
        "#categorize target data into 10 classes\n",
        "from tensorflow.keras.utils import to_categorical\n",
        "train_targets = to_categorical(train_targets,10)\n",
        "val_targets = to_categorical(val_targets,10)\n",
        "test_targets = to_categorical(test_targets,10)\n"
      ],
      "execution_count": 0,
      "outputs": []
    },
    {
      "metadata": {
        "id": "Em6c2FiOGqmL",
        "colab_type": "code",
        "outputId": "61cdce42-283d-47dc-9ead-18c56552e08c",
        "colab": {
          "base_uri": "https://localhost:8080/",
          "height": 34
        }
      },
      "cell_type": "code",
      "source": [
        "train_images.shape"
      ],
      "execution_count": 3,
      "outputs": [
        {
          "output_type": "execute_result",
          "data": {
            "text/plain": [
              "(48000, 28, 28, 1)"
            ]
          },
          "metadata": {
            "tags": []
          },
          "execution_count": 3
        }
      ]
    },
    {
      "metadata": {
        "id": "E71026uKT2xM",
        "colab_type": "code",
        "outputId": "5fd1d079-6f54-49a6-d2b0-628343c4da16",
        "colab": {
          "base_uri": "https://localhost:8080/",
          "height": 34
        }
      },
      "cell_type": "code",
      "source": [
        "train_targets.shape"
      ],
      "execution_count": 4,
      "outputs": [
        {
          "output_type": "execute_result",
          "data": {
            "text/plain": [
              "(48000, 10)"
            ]
          },
          "metadata": {
            "tags": []
          },
          "execution_count": 4
        }
      ]
    },
    {
      "metadata": {
        "id": "ow2NeCh0Gv5u",
        "colab_type": "code",
        "outputId": "64bbc28d-2c15-43e1-c50c-63e48834bc39",
        "colab": {
          "base_uri": "https://localhost:8080/",
          "height": 34
        }
      },
      "cell_type": "code",
      "source": [
        "val_images.shape"
      ],
      "execution_count": 5,
      "outputs": [
        {
          "output_type": "execute_result",
          "data": {
            "text/plain": [
              "(12000, 28, 28, 1)"
            ]
          },
          "metadata": {
            "tags": []
          },
          "execution_count": 5
        }
      ]
    },
    {
      "metadata": {
        "id": "WwACjoFtOHjI",
        "colab_type": "code",
        "outputId": "0c9f4062-8506-4b2e-f1e2-f440328c026c",
        "colab": {
          "base_uri": "https://localhost:8080/",
          "height": 34
        }
      },
      "cell_type": "code",
      "source": [
        "val_targets.shape"
      ],
      "execution_count": 6,
      "outputs": [
        {
          "output_type": "execute_result",
          "data": {
            "text/plain": [
              "(12000, 10)"
            ]
          },
          "metadata": {
            "tags": []
          },
          "execution_count": 6
        }
      ]
    },
    {
      "metadata": {
        "id": "LWTdOPVhGyUS",
        "colab_type": "code",
        "outputId": "3963dce7-f0c4-46a1-c0d3-d05d97a3dbed",
        "colab": {
          "base_uri": "https://localhost:8080/",
          "height": 34
        }
      },
      "cell_type": "code",
      "source": [
        "test_images.shape"
      ],
      "execution_count": 7,
      "outputs": [
        {
          "output_type": "execute_result",
          "data": {
            "text/plain": [
              "(10000, 28, 28, 1)"
            ]
          },
          "metadata": {
            "tags": []
          },
          "execution_count": 7
        }
      ]
    },
    {
      "metadata": {
        "id": "p0VigbLGG5Wb",
        "colab_type": "code",
        "colab": {}
      },
      "cell_type": "code",
      "source": [
        "#tensorflow would sometime gives error if not float32\n",
        "train_images = train_images.astype('float32')/255\n",
        "val_images = val_images.astype('float32')/255\n",
        "test_images = test_images.astype('float32')/255"
      ],
      "execution_count": 0,
      "outputs": []
    },
    {
      "metadata": {
        "id": "kZvPxmNBHul9",
        "colab_type": "code",
        "outputId": "d55e02d4-4cc1-4d2b-f865-f659443e8003",
        "colab": {
          "base_uri": "https://localhost:8080/",
          "height": 34
        }
      },
      "cell_type": "code",
      "source": [
        "from keras.models import Sequential\n",
        "from keras.layers import Conv2D, Dense, MaxPool2D, Dropout, Flatten, normalization"
      ],
      "execution_count": 9,
      "outputs": [
        {
          "output_type": "stream",
          "text": [
            "Using TensorFlow backend.\n"
          ],
          "name": "stderr"
        }
      ]
    },
    {
      "metadata": {
        "id": "et9TgLy5IWq8",
        "colab_type": "code",
        "colab": {}
      },
      "cell_type": "code",
      "source": [
        "#cnn model:\n",
        "model = Sequential()\n",
        "model.add(Conv2D(filters=32, kernel_size=3, activation='relu', input_shape=(28,28,1)))\n",
        "model.add(MaxPool2D(pool_size=2, strides=2))\n",
        "model.add(Dropout(0.25))\n",
        "model.add(Conv2D(filters=64, kernel_size=3, activation='relu'))\n",
        "model.add(MaxPool2D(pool_size=2, strides=2))\n",
        "model.add(Dropout(0.25))\n",
        "model.add(normalization.BatchNormalization())\n",
        "model.add(Conv2D(filters=128, kernel_size=3, activation='relu'))\n",
        "model.add(Dropout(0.5))\n",
        "\n",
        "model.add(Flatten())\n",
        "model.add(Dense(128, activation='relu'))\n",
        "model.add(Dropout(0.25))\n",
        "model.add(Dense(10, activation='softmax'))\n",
        "\n",
        "model.compile(optimizer='adam', \n",
        "              loss='categorical_crossentropy',\n",
        "              metrics=['accuracy'])"
      ],
      "execution_count": 0,
      "outputs": []
    },
    {
      "metadata": {
        "id": "cSnt6_xaMDNK",
        "colab_type": "code",
        "outputId": "21c62599-65e1-4398-91c1-45f315e814f6",
        "colab": {
          "base_uri": "https://localhost:8080/",
          "height": 578
        }
      },
      "cell_type": "code",
      "source": [
        "#detail cnn model\n",
        "model.summary()"
      ],
      "execution_count": 11,
      "outputs": [
        {
          "output_type": "stream",
          "text": [
            "_________________________________________________________________\n",
            "Layer (type)                 Output Shape              Param #   \n",
            "=================================================================\n",
            "conv2d_1 (Conv2D)            (None, 26, 26, 32)        320       \n",
            "_________________________________________________________________\n",
            "max_pooling2d_1 (MaxPooling2 (None, 13, 13, 32)        0         \n",
            "_________________________________________________________________\n",
            "dropout_1 (Dropout)          (None, 13, 13, 32)        0         \n",
            "_________________________________________________________________\n",
            "conv2d_2 (Conv2D)            (None, 11, 11, 64)        18496     \n",
            "_________________________________________________________________\n",
            "max_pooling2d_2 (MaxPooling2 (None, 5, 5, 64)          0         \n",
            "_________________________________________________________________\n",
            "dropout_2 (Dropout)          (None, 5, 5, 64)          0         \n",
            "_________________________________________________________________\n",
            "batch_normalization_1 (Batch (None, 5, 5, 64)          256       \n",
            "_________________________________________________________________\n",
            "conv2d_3 (Conv2D)            (None, 3, 3, 128)         73856     \n",
            "_________________________________________________________________\n",
            "dropout_3 (Dropout)          (None, 3, 3, 128)         0         \n",
            "_________________________________________________________________\n",
            "flatten_1 (Flatten)          (None, 1152)              0         \n",
            "_________________________________________________________________\n",
            "dense_1 (Dense)              (None, 128)               147584    \n",
            "_________________________________________________________________\n",
            "dropout_4 (Dropout)          (None, 128)               0         \n",
            "_________________________________________________________________\n",
            "dense_2 (Dense)              (None, 10)                1290      \n",
            "=================================================================\n",
            "Total params: 241,802\n",
            "Trainable params: 241,674\n",
            "Non-trainable params: 128\n",
            "_________________________________________________________________\n"
          ],
          "name": "stdout"
        }
      ]
    },
    {
      "metadata": {
        "id": "rmkGjiEFVA0g",
        "colab_type": "code",
        "outputId": "829eafb8-0e45-4be7-b2c2-011555d84ed6",
        "colab": {
          "base_uri": "https://localhost:8080/",
          "height": 374
        }
      },
      "cell_type": "code",
      "source": [
        "history = model.fit(train_images, train_targets,\n",
        "          batch_size=256,\n",
        "          epochs=10,\n",
        "          verbose=1,\n",
        "          validation_data=(val_images, val_targets))\n",
        "score = model.evaluate(test_images, test_targets, verbose=0)\n",
        "#result below using colab GPU mode. CPU training would take longer"
      ],
      "execution_count": 12,
      "outputs": [
        {
          "output_type": "stream",
          "text": [
            "Train on 48000 samples, validate on 12000 samples\n",
            "Epoch 1/10\n",
            "48000/48000 [==============================] - 8s 157us/step - loss: 0.7267 - acc: 0.7307 - val_loss: 0.4170 - val_acc: 0.8436\n",
            "Epoch 2/10\n",
            "48000/48000 [==============================] - 4s 83us/step - loss: 0.4619 - acc: 0.8303 - val_loss: 0.3445 - val_acc: 0.8732\n",
            "Epoch 3/10\n",
            "48000/48000 [==============================] - 4s 83us/step - loss: 0.3991 - acc: 0.8541 - val_loss: 0.3283 - val_acc: 0.8763\n",
            "Epoch 4/10\n",
            "48000/48000 [==============================] - 4s 85us/step - loss: 0.3674 - acc: 0.8662 - val_loss: 0.2908 - val_acc: 0.8934\n",
            "Epoch 5/10\n",
            "48000/48000 [==============================] - 4s 82us/step - loss: 0.3415 - acc: 0.8732 - val_loss: 0.2773 - val_acc: 0.8977\n",
            "Epoch 6/10\n",
            "48000/48000 [==============================] - 4s 82us/step - loss: 0.3234 - acc: 0.8805 - val_loss: 0.2778 - val_acc: 0.8979\n",
            "Epoch 7/10\n",
            "48000/48000 [==============================] - 4s 82us/step - loss: 0.3119 - acc: 0.8843 - val_loss: 0.2694 - val_acc: 0.8981\n",
            "Epoch 8/10\n",
            "48000/48000 [==============================] - 4s 82us/step - loss: 0.3069 - acc: 0.8872 - val_loss: 0.2736 - val_acc: 0.8953\n",
            "Epoch 9/10\n",
            "48000/48000 [==============================] - 4s 82us/step - loss: 0.2929 - acc: 0.8905 - val_loss: 0.2546 - val_acc: 0.9056\n",
            "Epoch 10/10\n",
            "48000/48000 [==============================] - 4s 82us/step - loss: 0.2875 - acc: 0.8929 - val_loss: 0.2425 - val_acc: 0.9124\n"
          ],
          "name": "stdout"
        }
      ]
    },
    {
      "metadata": {
        "id": "jxTItU5_mngJ",
        "colab_type": "code",
        "outputId": "0a977823-2e3c-4a70-e9cf-8612e4e5de38",
        "colab": {
          "base_uri": "https://localhost:8080/",
          "height": 34
        }
      },
      "cell_type": "code",
      "source": [
        "score"
      ],
      "execution_count": 13,
      "outputs": [
        {
          "output_type": "execute_result",
          "data": {
            "text/plain": [
              "[0.2651905277848244, 0.9027]"
            ]
          },
          "metadata": {
            "tags": []
          },
          "execution_count": 13
        }
      ]
    },
    {
      "metadata": {
        "id": "7ArEZG-NnCrI",
        "colab_type": "code",
        "colab": {}
      },
      "cell_type": "code",
      "source": [
        "#data augmentation by fliping, moving and rotating object in frame\n",
        "from keras.preprocessing.image import ImageDataGenerator\n",
        "gen = ImageDataGenerator(rotation_range=8, width_shift_range=0.08, shear_range=0.3,\n",
        "                               height_shift_range=0.08, zoom_range=0.08)\n",
        "batches = gen.flow(train_images, train_targets, batch_size=256)\n",
        "val_batches = gen.flow(val_images, val_targets, batch_size=256)"
      ],
      "execution_count": 0,
      "outputs": []
    },
    {
      "metadata": {
        "id": "G_xfx37YpCY1",
        "colab_type": "code",
        "colab": {}
      },
      "cell_type": "code",
      "source": [
        "history_aug = model.fit_generator(batches, steps_per_epoch=48000//256, epochs=50,\n",
        "                    validation_data=val_batches, validation_steps=12000//256, use_multiprocessing=True)"
      ],
      "execution_count": 0,
      "outputs": []
    },
    {
      "metadata": {
        "id": "4QTSHnm6kAd_",
        "colab_type": "code",
        "colab": {
          "base_uri": "https://localhost:8080/",
          "height": 34
        },
        "outputId": "46fc575e-c6bc-4c04-8b18-d64bdce8e64d"
      },
      "cell_type": "code",
      "source": [
        "#accuracy after improve model with data augmentation\n",
        "score_aug = model.evaluate(test_images, test_targets, verbose=0)\n",
        "score_aug"
      ],
      "execution_count": 16,
      "outputs": [
        {
          "output_type": "execute_result",
          "data": {
            "text/plain": [
              "[0.260030701816082, 0.9024]"
            ]
          },
          "metadata": {
            "tags": []
          },
          "execution_count": 16
        }
      ]
    },
    {
      "metadata": {
        "id": "q_hnSkcwgqdO",
        "colab_type": "code",
        "outputId": "e2a2ab35-8d33-417f-83c9-63150e35cffa",
        "colab": {
          "base_uri": "https://localhost:8080/",
          "height": 543
        }
      },
      "cell_type": "code",
      "source": [
        "#accuracy and loss graph over trainning time\n",
        "import matplotlib.pyplot as plt\n",
        "%matplotlib inline\n",
        "acc = history.history['acc']\n",
        "val_acc = history.history['val_acc']\n",
        "\n",
        "loss = history.history['loss']\n",
        "val_loss = history.history['val_loss']\n",
        "\n",
        "plt.plot(range(len(acc)),acc, label='Training accuracy')\n",
        "plt.plot(range(len(val_acc)),val_acc, label='Validation accuracy')\n",
        "plt.title('Accuracy')\n",
        "plt.legend()\n",
        "plt.show()\n",
        "\n",
        "plt.plot(range(len(loss)),loss, label='Training loss')\n",
        "plt.plot(range(len(val_loss)),val_loss, label='Validation loss')\n",
        "plt.title('Loss')\n",
        "plt.legend()\n",
        "plt.show()"
      ],
      "execution_count": 17,
      "outputs": [
        {
          "output_type": "display_data",
          "data": {
            "image/png": "[encoded data removed]",
            "text/plain": [
              "<matplotlib.figure.Figure at 0x7ffa15186550>"
            ]
          },
          "metadata": {
            "tags": []
          }
        },
        {
          "output_type": "display_data",
          "data": {
            "image/png": "[encoded data removed]",
            "text/plain": [
              "<matplotlib.figure.Figure at 0x7ff9a9f55ef0>"
            ]
          },
          "metadata": {
            "tags": []
          }
        }
      ]
    },
    {
      "metadata": {
        "id": "5Kgu4y81naNb",
        "colab_type": "code",
        "colab": {}
      },
      "cell_type": "code",
      "source": [
        "predicted = model.predict(test_images)"
      ],
      "execution_count": 0,
      "outputs": []
    },
    {
      "metadata": {
        "id": "Ol2vdy9zni_L",
        "colab_type": "code",
        "outputId": "079889e7-5632-4bc3-c744-3f188139ec14",
        "colab": {
          "base_uri": "https://localhost:8080/",
          "height": 299
        }
      },
      "cell_type": "code",
      "source": [
        "#try to predicted an object\n",
        "#note: using model.predict_classes for normalized prediction-TO BE IMPROVE\n",
        "import numpy as np\n",
        "plt.imshow(test_images[0].reshape(28,28))\n",
        "predicted[predicted<1e-2]=0\n",
        "predicted[predicted>1e-2]=1\n",
        "print('Predicted: ', class_names[np.nonzero(predicted[0])[0][0]])\n",
        "print('Real: ', class_names[np.nonzero(test_targets[0])[0][0]])"
      ],
      "execution_count": 19,
      "outputs": [
        {
          "output_type": "stream",
          "text": [
            "Predicted:  Ankle boot\n",
            "Real:  Ankle boot\n"
          ],
          "name": "stdout"
        },
        {
          "output_type": "display_data",
          "data": {
            "image/png": "[encoded data removed]",
            "text/plain": [
              "<matplotlib.figure.Figure at 0x7ff9ac0da5c0>"
            ]
          },
          "metadata": {
            "tags": []
          }
        }
      ]
    },
    {
      "metadata": {
        "id": "BA7lJmp5sv-L",
        "colab_type": "code",
        "outputId": "be61cdf0-a5c9-40c1-f029-7036bc6ad1e3",
        "colab": {
          "base_uri": "https://localhost:8080/",
          "height": 51
        }
      },
      "cell_type": "code",
      "source": [
        "print(predicted.shape)\n",
        "print(test_targets.shape)"
      ],
      "execution_count": 20,
      "outputs": [
        {
          "output_type": "stream",
          "text": [
            "(10000, 10)\n",
            "(10000, 10)\n"
          ],
          "name": "stdout"
        }
      ]
    },
    {
      "metadata": {
        "id": "8zowtUY2tXA2",
        "colab_type": "code",
        "outputId": "e51f8f99-84aa-44b5-a959-7e4fd848cb48",
        "colab": {
          "base_uri": "https://localhost:8080/",
          "height": 34
        }
      },
      "cell_type": "code",
      "source": [
        "predicted = model.predict_classes(test_images)\n",
        "predicted"
      ],
      "execution_count": 21,
      "outputs": [
        {
          "output_type": "execute_result",
          "data": {
            "text/plain": [
              "array([9, 2, 1, ..., 8, 1, 5])"
            ]
          },
          "metadata": {
            "tags": []
          },
          "execution_count": 21
        }
      ]
    },
    {
      "metadata": {
        "id": "30vW2G3YuL1J",
        "colab_type": "code",
        "outputId": "c7d31659-e956-470c-9d68-e9201f09b6d9",
        "colab": {
          "base_uri": "https://localhost:8080/",
          "height": 34
        }
      },
      "cell_type": "code",
      "source": [
        "np.nonzero(test_targets)[1]"
      ],
      "execution_count": 22,
      "outputs": [
        {
          "output_type": "execute_result",
          "data": {
            "text/plain": [
              "array([9, 2, 1, ..., 8, 1, 5])"
            ]
          },
          "metadata": {
            "tags": []
          },
          "execution_count": 22
        }
      ]
    },
    {
      "metadata": {
        "id": "_0y-pND-sMg6",
        "colab_type": "code",
        "outputId": "24e0e068-c59e-4f30-d42d-0b12634fb48f",
        "colab": {
          "base_uri": "https://localhost:8080/",
          "height": 484
        }
      },
      "cell_type": "code",
      "source": [
        "#show the confusion matrix\n",
        "from sklearn.metrics import confusion_matrix\n",
        "import itertools\n",
        "predicted = model.predict_classes(test_images)\n",
        "confu = confusion_matrix(np.nonzero(test_targets)[1], predicted)\n",
        "\n",
        "def plot_confusion_matrix(cm, classes,\n",
        "                          normalize=False,\n",
        "                          title='Confusion matrix',\n",
        "                          cmap=plt.cm.Blues):\n",
        "    \"\"\"\n",
        "    This function prints and plots the confusion matrix.\n",
        "    Normalization can be applied by setting `normalize=True`.\n",
        "    https://scikit-learn.org/stable/auto_examples/model_selection/plot_confusion_matrix.html\n",
        "    \"\"\"\n",
        "    if normalize:\n",
        "        cm = cm.astype('float') / cm.sum(axis=1)[:, np.newaxis]\n",
        "        print(\"Normalized confusion matrix\")\n",
        "    else:\n",
        "        print('Confusion matrix, without normalization')\n",
        "\n",
        "    print(cm)\n",
        "\n",
        "    plt.imshow(cm, interpolation='nearest', cmap=cmap)\n",
        "    plt.title(title)\n",
        "    plt.colorbar()\n",
        "    tick_marks = np.arange(len(classes))\n",
        "    plt.xticks(tick_marks, classes, rotation=45)\n",
        "    plt.yticks(tick_marks, classes)\n",
        "\n",
        "    fmt = '.2f' if normalize else 'd'\n",
        "    thresh = cm.max() / 2.\n",
        "    for i, j in itertools.product(range(cm.shape[0]), range(cm.shape[1])):\n",
        "        plt.text(j, i, format(cm[i, j], fmt),\n",
        "                 horizontalalignment=\"center\",\n",
        "                 color=\"white\" if cm[i, j] > thresh else \"black\")\n",
        "\n",
        "    plt.ylabel('True label')\n",
        "    plt.xlabel('Predicted label')\n",
        "    plt.tight_layout()\n",
        "    \n",
        "plot_confusion_matrix(confu, classes=class_names)"
      ],
      "execution_count": 23,
      "outputs": [
        {
          "output_type": "stream",
          "text": [
            "Confusion matrix, without normalization\n",
            "[[851   0   7  21   4   1 109   0   7   0]\n",
            " [  0 980   0  15   2   0   2   0   1   0]\n",
            " [ 12   0 787  10  50   0 141   0   0   0]\n",
            " [  5   3   5 930  23   0  33   0   1   0]\n",
            " [  1   0  18  34 797   0 148   0   2   0]\n",
            " [  0   0   0   0   0 987   0  11   0   2]\n",
            " [ 91   0  33  30  44   0 797   0   5   0]\n",
            " [  0   0   0   0   0   9   0 981   0  10]\n",
            " [  1   0   0   5   2   3   9   1 979   0]\n",
            " [  0   0   0   0   0  10   0  55   0 935]]\n"
          ],
          "name": "stdout"
        },
        {
          "output_type": "display_data",
          "data": {
            "image/png": "[encoded data removed]",
            "text/plain": [
              "<matplotlib.figure.Figure at 0x7ff9a9f26978>"
            ]
          },
          "metadata": {
            "tags": []
          }
        }
      ]
    }
  ]
}